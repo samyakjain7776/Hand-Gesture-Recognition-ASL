{
 "cells": [
  {
   "cell_type": "code",
   "execution_count": 1,
   "metadata": {
    "id": "A1ONUbEE6-Xj"
   },
   "outputs": [],
   "source": [
    "from keras.models import Sequential\n",
    "from keras.layers import Convolution2D\n",
    "from keras.layers import MaxPooling2D\n",
    "from keras.layers import Flatten\n",
    "from keras.layers import Dense, Dropout\n",
    "from keras import optimizers"
   ]
  },
  {
   "cell_type": "code",
   "execution_count": 2,
   "metadata": {
    "id": "cN6EZLrqqBnk"
   },
   "outputs": [],
   "source": [
    "from keras.models import Sequential\n",
    "from keras.layers import Conv2D, MaxPooling2D, Activation, Dense, Flatten"
   ]
  },
  {
   "cell_type": "code",
   "execution_count": 3,
   "metadata": {
    "colab": {
     "base_uri": "https://localhost:8080/"
    },
    "id": "ik3Mol-cp3OC",
    "outputId": "9d3bad1d-01dc-4ef2-e34d-f74796dc2ac5"
   },
   "outputs": [
    {
     "name": "stdout",
     "output_type": "stream",
     "text": [
      "Model: \"sequential\"\n",
      "_________________________________________________________________\n",
      "Layer (type)                 Output Shape              Param #   \n",
      "=================================================================\n",
      "conv2d (Conv2D)              (None, 60, 60, 32)        2432      \n",
      "_________________________________________________________________\n",
      "activation (Activation)      (None, 60, 60, 32)        0         \n",
      "_________________________________________________________________\n",
      "max_pooling2d (MaxPooling2D) (None, 30, 30, 32)        0         \n",
      "_________________________________________________________________\n",
      "conv2d_1 (Conv2D)            (None, 28, 28, 64)        18496     \n",
      "_________________________________________________________________\n",
      "activation_1 (Activation)    (None, 28, 28, 64)        0         \n",
      "_________________________________________________________________\n",
      "max_pooling2d_1 (MaxPooling2 (None, 14, 14, 64)        0         \n",
      "_________________________________________________________________\n",
      "conv2d_2 (Conv2D)            (None, 12, 12, 64)        36928     \n",
      "_________________________________________________________________\n",
      "activation_2 (Activation)    (None, 12, 12, 64)        0         \n",
      "_________________________________________________________________\n",
      "max_pooling2d_2 (MaxPooling2 (None, 6, 6, 64)          0         \n",
      "_________________________________________________________________\n",
      "flatten (Flatten)            (None, 2304)              0         \n",
      "_________________________________________________________________\n",
      "dense (Dense)                (None, 128)               295040    \n",
      "_________________________________________________________________\n",
      "dense_1 (Dense)              (None, 26)                3354      \n",
      "=================================================================\n",
      "Total params: 356,250\n",
      "Trainable params: 356,250\n",
      "Non-trainable params: 0\n",
      "_________________________________________________________________\n"
     ]
    }
   ],
   "source": [
    "# Construction of model\n",
    "model = Sequential()\n",
    "\n",
    "model.add(Conv2D(32, (5, 5), input_shape=(64, 64, 3)))\n",
    "model.add(Activation('relu'))\n",
    "model.add(MaxPooling2D((2, 2)))\n",
    "\n",
    "model.add(Conv2D(64, (3, 3)))\n",
    "model.add(Activation('relu'))\n",
    "model.add(MaxPooling2D((2, 2)))\n",
    "\n",
    "model.add(Conv2D(64, (3, 3)))\n",
    "model.add(Activation('relu'))\n",
    "model.add(MaxPooling2D((2, 2)))\n",
    "\n",
    "model.add(Flatten())\n",
    "\n",
    "model.add(Dense(128, activation='relu'))\n",
    "\n",
    "model.add(Dense(26, activation='softmax'))\n",
    "\n",
    "model.summary()"
   ]
  },
  {
   "cell_type": "code",
   "execution_count": 4,
   "metadata": {
    "id": "iXP-HDjd7XTY"
   },
   "outputs": [],
   "source": [
    "#Compiling The CNN\n",
    "model.compile(\n",
    "              optimizer = 'adam',\n",
    "              loss = 'categorical_crossentropy',\n",
    "              metrics = ['accuracy'])"
   ]
  },
  {
   "cell_type": "code",
   "execution_count": 5,
   "metadata": {
    "id": "YHytHfrN7ja7"
   },
   "outputs": [],
   "source": [
    "#Part 2 Fittting the CNN to the image\n",
    "from keras.preprocessing.image import ImageDataGenerator\n",
    "train_datagen = ImageDataGenerator(\n",
    "        rescale=1./255,\n",
    "        shear_range=0.2,\n",
    "        zoom_range=0.2,\n",
    "        horizontal_flip=True)"
   ]
  },
  {
   "cell_type": "code",
   "execution_count": 6,
   "metadata": {
    "id": "TAtn-HMG7jeE"
   },
   "outputs": [],
   "source": [
    "test_datagen = ImageDataGenerator(rescale=1./255)"
   ]
  },
  {
   "cell_type": "code",
   "execution_count": 7,
   "metadata": {
    "colab": {
     "base_uri": "https://localhost:8080/",
     "height": 354
    },
    "id": "pdg5DT-p7jhN",
    "outputId": "ff113b17-a71a-4a05-aa53-9c94dfccba76"
   },
   "outputs": [
    {
     "name": "stdout",
     "output_type": "stream",
     "text": [
      "Found 45500 images belonging to 26 classes.\n"
     ]
    }
   ],
   "source": [
    "training_set = train_datagen.flow_from_directory(\n",
    "        'mydata/training_set',\n",
    "        target_size=(64, 64),\n",
    "        batch_size=32,\n",
    "        class_mode='categorical')"
   ]
  },
  {
   "cell_type": "code",
   "execution_count": 8,
   "metadata": {
    "id": "97AwJykf7jkB"
   },
   "outputs": [
    {
     "name": "stdout",
     "output_type": "stream",
     "text": [
      "Found 6500 images belonging to 26 classes.\n"
     ]
    }
   ],
   "source": [
    "test_set = test_datagen.flow_from_directory(\n",
    "        'mydata/test_set',\n",
    "        target_size=(64, 64),\n",
    "        batch_size=32,\n",
    "        class_mode='categorical')"
   ]
  },
  {
   "cell_type": "code",
   "execution_count": 9,
   "metadata": {
    "id": "Bw887ADx7jnS"
   },
   "outputs": [
    {
     "name": "stdout",
     "output_type": "stream",
     "text": [
      "Epoch 1/15\n",
      "1421/1421 [==============================] - 1081s 761ms/step - loss: 0.2903 - accuracy: 0.9061 - val_loss: 0.2156 - val_accuracy: 0.9509\n",
      "Epoch 2/15\n",
      "1421/1421 [==============================] - 482s 339ms/step - loss: 0.0530 - accuracy: 0.9831 - val_loss: 0.0809 - val_accuracy: 0.9784\n",
      "Epoch 3/15\n",
      "1421/1421 [==============================] - 183s 129ms/step - loss: 0.0331 - accuracy: 0.9897 - val_loss: 0.0896 - val_accuracy: 0.9897\n",
      "Epoch 4/15\n",
      "1421/1421 [==============================] - 184s 129ms/step - loss: 0.0286 - accuracy: 0.9917 - val_loss: 0.0517 - val_accuracy: 0.9895\n",
      "Epoch 5/15\n",
      "1421/1421 [==============================] - 184s 130ms/step - loss: 0.0214 - accuracy: 0.9938 - val_loss: 0.0235 - val_accuracy: 0.9934\n",
      "Epoch 6/15\n",
      "1421/1421 [==============================] - 181s 127ms/step - loss: 0.0151 - accuracy: 0.9950 - val_loss: 0.0812 - val_accuracy: 0.9869\n",
      "Epoch 7/15\n",
      "1421/1421 [==============================] - 193s 136ms/step - loss: 0.0159 - accuracy: 0.9955 - val_loss: 0.0417 - val_accuracy: 0.9900\n",
      "Epoch 8/15\n",
      "1421/1421 [==============================] - 189s 133ms/step - loss: 0.0156 - accuracy: 0.9956 - val_loss: 0.0400 - val_accuracy: 0.9934\n",
      "Epoch 9/15\n",
      "1421/1421 [==============================] - 199s 140ms/step - loss: 0.0108 - accuracy: 0.9970 - val_loss: 0.0431 - val_accuracy: 0.9929\n",
      "Epoch 10/15\n",
      "1421/1421 [==============================] - 189s 133ms/step - loss: 0.0112 - accuracy: 0.9966 - val_loss: 0.0327 - val_accuracy: 0.9926\n",
      "Epoch 11/15\n",
      "1421/1421 [==============================] - 214s 150ms/step - loss: 0.0095 - accuracy: 0.9971 - val_loss: 0.0546 - val_accuracy: 0.9912\n",
      "Epoch 12/15\n",
      "1421/1421 [==============================] - 228s 160ms/step - loss: 0.0089 - accuracy: 0.9973 - val_loss: 0.0370 - val_accuracy: 0.9942\n",
      "Epoch 13/15\n",
      "1421/1421 [==============================] - 239s 168ms/step - loss: 0.0095 - accuracy: 0.9973 - val_loss: 0.1136 - val_accuracy: 0.9840\n",
      "Epoch 14/15\n",
      "1421/1421 [==============================] - 221s 156ms/step - loss: 0.0113 - accuracy: 0.9968 - val_loss: 0.0498 - val_accuracy: 0.9911\n",
      "Epoch 15/15\n",
      "1421/1421 [==============================] - 226s 159ms/step - loss: 0.0069 - accuracy: 0.9979 - val_loss: 0.0285 - val_accuracy: 0.9946\n"
     ]
    }
   ],
   "source": [
    "history = model.fit(\n",
    "        training_set,\n",
    "        steps_per_epoch=1421,\n",
    "        epochs=15,\n",
    "        validation_data = test_set,\n",
    "        validation_steps = 203\n",
    "      )"
   ]
  },
  {
   "cell_type": "code",
   "execution_count": 10,
   "metadata": {
    "id": "NY681QJt7jpk"
   },
   "outputs": [],
   "source": [
    "#Saving the model\n",
    "import h5py\n",
    "model.save('Trained_cnn_model.h5')"
   ]
  },
  {
   "cell_type": "code",
   "execution_count": 11,
   "metadata": {},
   "outputs": [],
   "source": [
    "import pandas as pd\n",
    "import matplotlib.pyplot as plt"
   ]
  },
  {
   "cell_type": "code",
   "execution_count": 12,
   "metadata": {
    "colab": {
     "base_uri": "https://localhost:8080/",
     "height": 229
    },
    "id": "v4WfOGkT7XWk",
    "outputId": "19c0e8b6-8a4c-426d-cc29-8ed352aaaccc"
   },
   "outputs": [
    {
     "data": {
      "image/png": "[encoded data removed]",
      "text/plain": [
       "<Figure size 432x288 with 1 Axes>"
      ]
     },
     "metadata": {
      "needs_background": "light"
     },
     "output_type": "display_data"
    }
   ],
   "source": [
    "# summarize history for accuracy\n",
    "plt.plot(history.history['accuracy'])\n",
    "plt.plot(history.history['val_accuracy'])\n",
    "plt.title('model accuracy')\n",
    "plt.ylabel('accuracy')\n",
    "plt.xlabel('epoch')\n",
    "plt.legend(['train', 'test'], loc='upper left')\n",
    "plt.show()"
   ]
  },
  {
   "cell_type": "code",
   "execution_count": 13,
   "metadata": {
    "id": "tD5L76TC7XZP"
   },
   "outputs": [
    {
     "data": {
      "image/png": "[encoded data removed]",
      "text/plain": [
       "<Figure size 432x288 with 1 Axes>"
      ]
     },
     "metadata": {
      "needs_background": "light"
     },
     "output_type": "display_data"
    }
   ],
   "source": [
    "# summarize history for loss\n",
    "\n",
    "plt.plot(history.history['loss'])\n",
    "plt.plot(history.history['val_loss'])\n",
    "plt.title('model loss')\n",
    "plt.ylabel('loss')\n",
    "plt.xlabel('epoch')\n",
    "plt.legend(['train', 'test'], loc='upper left')\n",
    "plt.show()\n"
   ]
  },
  {
   "cell_type": "code",
   "execution_count": 14,
   "metadata": {},
   "outputs": [],
   "source": [
    "metrics = pd.DataFrame(history.history)"
   ]
  },
  {
   "cell_type": "code",
   "execution_count": 15,
   "metadata": {},
   "outputs": [
    {
     "data": {
      "text/html": [
       "<div>\n",
       "<style scoped>\n",
       "    .dataframe tbody tr th:only-of-type {\n",
       "        vertical-align: middle;\n",
       "    }\n",
       "\n",
       "    .dataframe tbody tr th {\n",
       "        vertical-align: top;\n",
       "    }\n",
       "\n",
       "    .dataframe thead th {\n",
       "        text-align: right;\n",
       "    }\n",
       "</style>\n",
       "<table border=\"1\" class=\"dataframe\">\n",
       "  <thead>\n",
       "    <tr style=\"text-align: right;\">\n",
       "      <th></th>\n",
       "      <th>loss</th>\n",
       "      <th>accuracy</th>\n",
       "      <th>val_loss</th>\n",
       "      <th>val_accuracy</th>\n",
       "    </tr>\n",
       "  </thead>\n",
       "  <tbody>\n",
       "    <tr>\n",
       "      <th>0</th>\n",
       "      <td>0.290285</td>\n",
       "      <td>0.906132</td>\n",
       "      <td>0.215631</td>\n",
       "      <td>0.950893</td>\n",
       "    </tr>\n",
       "    <tr>\n",
       "      <th>1</th>\n",
       "      <td>0.053008</td>\n",
       "      <td>0.983109</td>\n",
       "      <td>0.080947</td>\n",
       "      <td>0.978448</td>\n",
       "    </tr>\n",
       "    <tr>\n",
       "      <th>2</th>\n",
       "      <td>0.033149</td>\n",
       "      <td>0.989707</td>\n",
       "      <td>0.089564</td>\n",
       "      <td>0.989686</td>\n",
       "    </tr>\n",
       "    <tr>\n",
       "      <th>3</th>\n",
       "      <td>0.028553</td>\n",
       "      <td>0.991664</td>\n",
       "      <td>0.051706</td>\n",
       "      <td>0.989532</td>\n",
       "    </tr>\n",
       "    <tr>\n",
       "      <th>4</th>\n",
       "      <td>0.021399</td>\n",
       "      <td>0.993798</td>\n",
       "      <td>0.023463</td>\n",
       "      <td>0.993381</td>\n",
       "    </tr>\n",
       "    <tr>\n",
       "      <th>5</th>\n",
       "      <td>0.015126</td>\n",
       "      <td>0.995029</td>\n",
       "      <td>0.081154</td>\n",
       "      <td>0.986915</td>\n",
       "    </tr>\n",
       "    <tr>\n",
       "      <th>6</th>\n",
       "      <td>0.015872</td>\n",
       "      <td>0.995535</td>\n",
       "      <td>0.041696</td>\n",
       "      <td>0.989994</td>\n",
       "    </tr>\n",
       "    <tr>\n",
       "      <th>7</th>\n",
       "      <td>0.015635</td>\n",
       "      <td>0.995645</td>\n",
       "      <td>0.039971</td>\n",
       "      <td>0.993381</td>\n",
       "    </tr>\n",
       "    <tr>\n",
       "      <th>8</th>\n",
       "      <td>0.010820</td>\n",
       "      <td>0.996965</td>\n",
       "      <td>0.043128</td>\n",
       "      <td>0.992919</td>\n",
       "    </tr>\n",
       "    <tr>\n",
       "      <th>9</th>\n",
       "      <td>0.011228</td>\n",
       "      <td>0.996569</td>\n",
       "      <td>0.032731</td>\n",
       "      <td>0.992611</td>\n",
       "    </tr>\n",
       "    <tr>\n",
       "      <th>10</th>\n",
       "      <td>0.009464</td>\n",
       "      <td>0.997141</td>\n",
       "      <td>0.054560</td>\n",
       "      <td>0.991225</td>\n",
       "    </tr>\n",
       "    <tr>\n",
       "      <th>11</th>\n",
       "      <td>0.008889</td>\n",
       "      <td>0.997339</td>\n",
       "      <td>0.037004</td>\n",
       "      <td>0.994150</td>\n",
       "    </tr>\n",
       "    <tr>\n",
       "      <th>12</th>\n",
       "      <td>0.009549</td>\n",
       "      <td>0.997317</td>\n",
       "      <td>0.113632</td>\n",
       "      <td>0.983990</td>\n",
       "    </tr>\n",
       "    <tr>\n",
       "      <th>13</th>\n",
       "      <td>0.011292</td>\n",
       "      <td>0.996789</td>\n",
       "      <td>0.049765</td>\n",
       "      <td>0.991071</td>\n",
       "    </tr>\n",
       "    <tr>\n",
       "      <th>14</th>\n",
       "      <td>0.006883</td>\n",
       "      <td>0.997889</td>\n",
       "      <td>0.028526</td>\n",
       "      <td>0.994612</td>\n",
       "    </tr>\n",
       "  </tbody>\n",
       "</table>\n",
       "</div>"
      ],
      "text/plain": [
       "        loss  accuracy  val_loss  val_accuracy\n",
       "0   0.290285  0.906132  0.215631      0.950893\n",
       "1   0.053008  0.983109  0.080947      0.978448\n",
       "2   0.033149  0.989707  0.089564      0.989686\n",
       "3   0.028553  0.991664  0.051706      0.989532\n",
       "4   0.021399  0.993798  0.023463      0.993381\n",
       "5   0.015126  0.995029  0.081154      0.986915\n",
       "6   0.015872  0.995535  0.041696      0.989994\n",
       "7   0.015635  0.995645  0.039971      0.993381\n",
       "8   0.010820  0.996965  0.043128      0.992919\n",
       "9   0.011228  0.996569  0.032731      0.992611\n",
       "10  0.009464  0.997141  0.054560      0.991225\n",
       "11  0.008889  0.997339  0.037004      0.994150\n",
       "12  0.009549  0.997317  0.113632      0.983990\n",
       "13  0.011292  0.996789  0.049765      0.991071\n",
       "14  0.006883  0.997889  0.028526      0.994612"
      ]
     },
     "execution_count": 15,
     "metadata": {},
     "output_type": "execute_result"
    }
   ],
   "source": [
    "metrics"
   ]
  },
  {
   "cell_type": "code",
   "execution_count": 16,
   "metadata": {},
   "outputs": [
    {
     "name": "stdout",
     "output_type": "stream",
     "text": [
      "204/204 [==============================] - 5s 22ms/step - loss: 0.0285 - accuracy: 0.9946\n"
     ]
    }
   ],
   "source": [
    "test_loss,test_acc=model.evaluate(test_set)"
   ]
  },
  {
   "cell_type": "code",
   "execution_count": 17,
   "metadata": {},
   "outputs": [
    {
     "data": {
      "text/plain": [
       "0.994615375995636"
      ]
     },
     "execution_count": 17,
     "metadata": {},
     "output_type": "execute_result"
    }
   ],
   "source": [
    "test_acc"
   ]
  },
  {
   "cell_type": "code",
   "execution_count": null,
   "metadata": {},
   "outputs": [],
   "source": []
  }
 ],
 "metadata": {
  "colab": {
   "collapsed_sections": [],
   "name": "try.ipynb",
   "provenance": []
  },
  "kernelspec": {
   "display_name": "Python 3",
   "language": "python",
   "name": "python3"
  },
  "language_info": {
   "codemirror_mode": {
    "name": "ipython",
    "version": 3
   },
   "file_extension": ".py",
   "mimetype": "text/x-python",
   "name": "python",
   "nbconvert_exporter": "python",
   "pygments_lexer": "ipython3",
   "version": "3.8.10"
  }
 },
 "nbformat": 4,
 "nbformat_minor": 1
}
